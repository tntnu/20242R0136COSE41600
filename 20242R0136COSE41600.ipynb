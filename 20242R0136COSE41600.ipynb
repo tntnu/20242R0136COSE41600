{
  "nbformat": 4,
  "nbformat_minor": 0,
  "metadata": {
    "colab": {
      "provenance": [],
      "gpuType": "T4",
      "authorship_tag": "ABX9TyPPPQjIsRhQw1htXjSn5yKs",
      "include_colab_link": true
    },
    "kernelspec": {
      "name": "python3",
      "display_name": "Python 3"
    },
    "language_info": {
      "name": "python"
    },
    "accelerator": "GPU"
  },
  "cells": [
    {
      "cell_type": "markdown",
      "metadata": {
        "id": "view-in-github",
        "colab_type": "text"
      },
      "source": [
        "<a href=\"https://colab.research.google.com/github/tntnu/20242R0136COSE41600/blob/main/20242R0136COSE41600.ipynb\" target=\"_parent\"><img src=\"https://colab.research.google.com/assets/colab-badge.svg\" alt=\"Open In Colab\"/></a>"
      ]
    },
    {
      "cell_type": "code",
      "execution_count": 1,
      "metadata": {
        "id": "s30fOtK9TWgo",
        "colab": {
          "base_uri": "https://localhost:8080/"
        },
        "outputId": "38df45c1-71d5-4de4-9423-1afacf75e363"
      },
      "outputs": [
        {
          "output_type": "stream",
          "name": "stdout",
          "text": [
            "Mounted at /content/drive\n"
          ]
        }
      ],
      "source": [
        "from google.colab import drive\n",
        "\n",
        "drive.mount('/content/drive')"
      ]
    },
    {
      "cell_type": "code",
      "source": [
        "pip install open3d"
      ],
      "metadata": {
        "colab": {
          "base_uri": "https://localhost:8080/"
        },
        "id": "k0DzwqADok0h",
        "outputId": "51ad9e6b-fa41-429c-bcce-1ea5492cea23"
      },
      "execution_count": 2,
      "outputs": [
        {
          "output_type": "stream",
          "name": "stdout",
          "text": [
            "Collecting open3d\n",
            "  Downloading open3d-0.18.0-cp310-cp310-manylinux_2_27_x86_64.whl.metadata (4.2 kB)\n",
            "Requirement already satisfied: numpy>=1.18.0 in /usr/local/lib/python3.10/dist-packages (from open3d) (1.26.4)\n",
            "Collecting dash>=2.6.0 (from open3d)\n",
            "  Downloading dash-2.18.2-py3-none-any.whl.metadata (10 kB)\n",
            "Requirement already satisfied: werkzeug>=2.2.3 in /usr/local/lib/python3.10/dist-packages (from open3d) (3.1.3)\n",
            "Requirement already satisfied: nbformat>=5.7.0 in /usr/local/lib/python3.10/dist-packages (from open3d) (5.10.4)\n",
            "Collecting configargparse (from open3d)\n",
            "  Downloading ConfigArgParse-1.7-py3-none-any.whl.metadata (23 kB)\n",
            "Collecting ipywidgets>=8.0.4 (from open3d)\n",
            "  Downloading ipywidgets-8.1.5-py3-none-any.whl.metadata (2.3 kB)\n",
            "Collecting addict (from open3d)\n",
            "  Downloading addict-2.4.0-py3-none-any.whl.metadata (1.0 kB)\n",
            "Requirement already satisfied: pillow>=9.3.0 in /usr/local/lib/python3.10/dist-packages (from open3d) (11.0.0)\n",
            "Requirement already satisfied: matplotlib>=3 in /usr/local/lib/python3.10/dist-packages (from open3d) (3.8.0)\n",
            "Requirement already satisfied: pandas>=1.0 in /usr/local/lib/python3.10/dist-packages (from open3d) (2.2.2)\n",
            "Requirement already satisfied: pyyaml>=5.4.1 in /usr/local/lib/python3.10/dist-packages (from open3d) (6.0.2)\n",
            "Requirement already satisfied: scikit-learn>=0.21 in /usr/local/lib/python3.10/dist-packages (from open3d) (1.5.2)\n",
            "Requirement already satisfied: tqdm in /usr/local/lib/python3.10/dist-packages (from open3d) (4.66.6)\n",
            "Collecting pyquaternion (from open3d)\n",
            "  Downloading pyquaternion-0.9.9-py3-none-any.whl.metadata (1.4 kB)\n",
            "Requirement already satisfied: Flask<3.1,>=1.0.4 in /usr/local/lib/python3.10/dist-packages (from dash>=2.6.0->open3d) (3.0.3)\n",
            "Collecting werkzeug>=2.2.3 (from open3d)\n",
            "  Downloading werkzeug-3.0.6-py3-none-any.whl.metadata (3.7 kB)\n",
            "Requirement already satisfied: plotly>=5.0.0 in /usr/local/lib/python3.10/dist-packages (from dash>=2.6.0->open3d) (5.24.1)\n",
            "Collecting dash-html-components==2.0.0 (from dash>=2.6.0->open3d)\n",
            "  Downloading dash_html_components-2.0.0-py3-none-any.whl.metadata (3.8 kB)\n",
            "Collecting dash-core-components==2.0.0 (from dash>=2.6.0->open3d)\n",
            "  Downloading dash_core_components-2.0.0-py3-none-any.whl.metadata (2.9 kB)\n",
            "Collecting dash-table==5.0.0 (from dash>=2.6.0->open3d)\n",
            "  Downloading dash_table-5.0.0-py3-none-any.whl.metadata (2.4 kB)\n",
            "Requirement already satisfied: importlib-metadata in /usr/local/lib/python3.10/dist-packages (from dash>=2.6.0->open3d) (8.5.0)\n",
            "Requirement already satisfied: typing-extensions>=4.1.1 in /usr/local/lib/python3.10/dist-packages (from dash>=2.6.0->open3d) (4.12.2)\n",
            "Requirement already satisfied: requests in /usr/local/lib/python3.10/dist-packages (from dash>=2.6.0->open3d) (2.32.3)\n",
            "Collecting retrying (from dash>=2.6.0->open3d)\n",
            "  Downloading retrying-1.3.4-py3-none-any.whl.metadata (6.9 kB)\n",
            "Requirement already satisfied: nest-asyncio in /usr/local/lib/python3.10/dist-packages (from dash>=2.6.0->open3d) (1.6.0)\n",
            "Requirement already satisfied: setuptools in /usr/local/lib/python3.10/dist-packages (from dash>=2.6.0->open3d) (75.1.0)\n",
            "Collecting comm>=0.1.3 (from ipywidgets>=8.0.4->open3d)\n",
            "  Downloading comm-0.2.2-py3-none-any.whl.metadata (3.7 kB)\n",
            "Requirement already satisfied: ipython>=6.1.0 in /usr/local/lib/python3.10/dist-packages (from ipywidgets>=8.0.4->open3d) (7.34.0)\n",
            "Requirement already satisfied: traitlets>=4.3.1 in /usr/local/lib/python3.10/dist-packages (from ipywidgets>=8.0.4->open3d) (5.7.1)\n",
            "Collecting widgetsnbextension~=4.0.12 (from ipywidgets>=8.0.4->open3d)\n",
            "  Downloading widgetsnbextension-4.0.13-py3-none-any.whl.metadata (1.6 kB)\n",
            "Requirement already satisfied: jupyterlab-widgets~=3.0.12 in /usr/local/lib/python3.10/dist-packages (from ipywidgets>=8.0.4->open3d) (3.0.13)\n",
            "Requirement already satisfied: contourpy>=1.0.1 in /usr/local/lib/python3.10/dist-packages (from matplotlib>=3->open3d) (1.3.1)\n",
            "Requirement already satisfied: cycler>=0.10 in /usr/local/lib/python3.10/dist-packages (from matplotlib>=3->open3d) (0.12.1)\n",
            "Requirement already satisfied: fonttools>=4.22.0 in /usr/local/lib/python3.10/dist-packages (from matplotlib>=3->open3d) (4.55.0)\n",
            "Requirement already satisfied: kiwisolver>=1.0.1 in /usr/local/lib/python3.10/dist-packages (from matplotlib>=3->open3d) (1.4.7)\n",
            "Requirement already satisfied: packaging>=20.0 in /usr/local/lib/python3.10/dist-packages (from matplotlib>=3->open3d) (24.2)\n",
            "Requirement already satisfied: pyparsing>=2.3.1 in /usr/local/lib/python3.10/dist-packages (from matplotlib>=3->open3d) (3.2.0)\n",
            "Requirement already satisfied: python-dateutil>=2.7 in /usr/local/lib/python3.10/dist-packages (from matplotlib>=3->open3d) (2.8.2)\n",
            "Requirement already satisfied: fastjsonschema>=2.15 in /usr/local/lib/python3.10/dist-packages (from nbformat>=5.7.0->open3d) (2.20.0)\n",
            "Requirement already satisfied: jsonschema>=2.6 in /usr/local/lib/python3.10/dist-packages (from nbformat>=5.7.0->open3d) (4.23.0)\n",
            "Requirement already satisfied: jupyter-core!=5.0.*,>=4.12 in /usr/local/lib/python3.10/dist-packages (from nbformat>=5.7.0->open3d) (5.7.2)\n",
            "Requirement already satisfied: pytz>=2020.1 in /usr/local/lib/python3.10/dist-packages (from pandas>=1.0->open3d) (2024.2)\n",
            "Requirement already satisfied: tzdata>=2022.7 in /usr/local/lib/python3.10/dist-packages (from pandas>=1.0->open3d) (2024.2)\n",
            "Requirement already satisfied: scipy>=1.6.0 in /usr/local/lib/python3.10/dist-packages (from scikit-learn>=0.21->open3d) (1.13.1)\n",
            "Requirement already satisfied: joblib>=1.2.0 in /usr/local/lib/python3.10/dist-packages (from scikit-learn>=0.21->open3d) (1.4.2)\n",
            "Requirement already satisfied: threadpoolctl>=3.1.0 in /usr/local/lib/python3.10/dist-packages (from scikit-learn>=0.21->open3d) (3.5.0)\n",
            "Requirement already satisfied: MarkupSafe>=2.1.1 in /usr/local/lib/python3.10/dist-packages (from werkzeug>=2.2.3->open3d) (3.0.2)\n",
            "Requirement already satisfied: Jinja2>=3.1.2 in /usr/local/lib/python3.10/dist-packages (from Flask<3.1,>=1.0.4->dash>=2.6.0->open3d) (3.1.4)\n",
            "Requirement already satisfied: itsdangerous>=2.1.2 in /usr/local/lib/python3.10/dist-packages (from Flask<3.1,>=1.0.4->dash>=2.6.0->open3d) (2.2.0)\n",
            "Requirement already satisfied: click>=8.1.3 in /usr/local/lib/python3.10/dist-packages (from Flask<3.1,>=1.0.4->dash>=2.6.0->open3d) (8.1.7)\n",
            "Requirement already satisfied: blinker>=1.6.2 in /usr/local/lib/python3.10/dist-packages (from Flask<3.1,>=1.0.4->dash>=2.6.0->open3d) (1.9.0)\n",
            "Collecting jedi>=0.16 (from ipython>=6.1.0->ipywidgets>=8.0.4->open3d)\n",
            "  Downloading jedi-0.19.2-py2.py3-none-any.whl.metadata (22 kB)\n",
            "Requirement already satisfied: decorator in /usr/local/lib/python3.10/dist-packages (from ipython>=6.1.0->ipywidgets>=8.0.4->open3d) (4.4.2)\n",
            "Requirement already satisfied: pickleshare in /usr/local/lib/python3.10/dist-packages (from ipython>=6.1.0->ipywidgets>=8.0.4->open3d) (0.7.5)\n",
            "Requirement already satisfied: prompt-toolkit!=3.0.0,!=3.0.1,<3.1.0,>=2.0.0 in /usr/local/lib/python3.10/dist-packages (from ipython>=6.1.0->ipywidgets>=8.0.4->open3d) (3.0.48)\n",
            "Requirement already satisfied: pygments in /usr/local/lib/python3.10/dist-packages (from ipython>=6.1.0->ipywidgets>=8.0.4->open3d) (2.18.0)\n",
            "Requirement already satisfied: backcall in /usr/local/lib/python3.10/dist-packages (from ipython>=6.1.0->ipywidgets>=8.0.4->open3d) (0.2.0)\n",
            "Requirement already satisfied: matplotlib-inline in /usr/local/lib/python3.10/dist-packages (from ipython>=6.1.0->ipywidgets>=8.0.4->open3d) (0.1.7)\n",
            "Requirement already satisfied: pexpect>4.3 in /usr/local/lib/python3.10/dist-packages (from ipython>=6.1.0->ipywidgets>=8.0.4->open3d) (4.9.0)\n",
            "Requirement already satisfied: attrs>=22.2.0 in /usr/local/lib/python3.10/dist-packages (from jsonschema>=2.6->nbformat>=5.7.0->open3d) (24.2.0)\n",
            "Requirement already satisfied: jsonschema-specifications>=2023.03.6 in /usr/local/lib/python3.10/dist-packages (from jsonschema>=2.6->nbformat>=5.7.0->open3d) (2024.10.1)\n",
            "Requirement already satisfied: referencing>=0.28.4 in /usr/local/lib/python3.10/dist-packages (from jsonschema>=2.6->nbformat>=5.7.0->open3d) (0.35.1)\n",
            "Requirement already satisfied: rpds-py>=0.7.1 in /usr/local/lib/python3.10/dist-packages (from jsonschema>=2.6->nbformat>=5.7.0->open3d) (0.21.0)\n",
            "Requirement already satisfied: platformdirs>=2.5 in /usr/local/lib/python3.10/dist-packages (from jupyter-core!=5.0.*,>=4.12->nbformat>=5.7.0->open3d) (4.3.6)\n",
            "Requirement already satisfied: tenacity>=6.2.0 in /usr/local/lib/python3.10/dist-packages (from plotly>=5.0.0->dash>=2.6.0->open3d) (9.0.0)\n",
            "Requirement already satisfied: six>=1.5 in /usr/local/lib/python3.10/dist-packages (from python-dateutil>=2.7->matplotlib>=3->open3d) (1.16.0)\n",
            "Requirement already satisfied: zipp>=3.20 in /usr/local/lib/python3.10/dist-packages (from importlib-metadata->dash>=2.6.0->open3d) (3.21.0)\n",
            "Requirement already satisfied: charset-normalizer<4,>=2 in /usr/local/lib/python3.10/dist-packages (from requests->dash>=2.6.0->open3d) (3.4.0)\n",
            "Requirement already satisfied: idna<4,>=2.5 in /usr/local/lib/python3.10/dist-packages (from requests->dash>=2.6.0->open3d) (3.10)\n",
            "Requirement already satisfied: urllib3<3,>=1.21.1 in /usr/local/lib/python3.10/dist-packages (from requests->dash>=2.6.0->open3d) (2.2.3)\n",
            "Requirement already satisfied: certifi>=2017.4.17 in /usr/local/lib/python3.10/dist-packages (from requests->dash>=2.6.0->open3d) (2024.8.30)\n",
            "Requirement already satisfied: parso<0.9.0,>=0.8.4 in /usr/local/lib/python3.10/dist-packages (from jedi>=0.16->ipython>=6.1.0->ipywidgets>=8.0.4->open3d) (0.8.4)\n",
            "Requirement already satisfied: ptyprocess>=0.5 in /usr/local/lib/python3.10/dist-packages (from pexpect>4.3->ipython>=6.1.0->ipywidgets>=8.0.4->open3d) (0.7.0)\n",
            "Requirement already satisfied: wcwidth in /usr/local/lib/python3.10/dist-packages (from prompt-toolkit!=3.0.0,!=3.0.1,<3.1.0,>=2.0.0->ipython>=6.1.0->ipywidgets>=8.0.4->open3d) (0.2.13)\n",
            "Downloading open3d-0.18.0-cp310-cp310-manylinux_2_27_x86_64.whl (399.7 MB)\n",
            "\u001b[2K   \u001b[90m━━━━━━━━━━━━━━━━━━━━━━━━━━━━━━━━━━━━━━━━\u001b[0m \u001b[32m399.7/399.7 MB\u001b[0m \u001b[31m3.6 MB/s\u001b[0m eta \u001b[36m0:00:00\u001b[0m\n",
            "\u001b[?25hDownloading dash-2.18.2-py3-none-any.whl (7.8 MB)\n",
            "\u001b[2K   \u001b[90m━━━━━━━━━━━━━━━━━━━━━━━━━━━━━━━━━━━━━━━━\u001b[0m \u001b[32m7.8/7.8 MB\u001b[0m \u001b[31m46.7 MB/s\u001b[0m eta \u001b[36m0:00:00\u001b[0m\n",
            "\u001b[?25hDownloading dash_core_components-2.0.0-py3-none-any.whl (3.8 kB)\n",
            "Downloading dash_html_components-2.0.0-py3-none-any.whl (4.1 kB)\n",
            "Downloading dash_table-5.0.0-py3-none-any.whl (3.9 kB)\n",
            "Downloading ipywidgets-8.1.5-py3-none-any.whl (139 kB)\n",
            "\u001b[2K   \u001b[90m━━━━━━━━━━━━━━━━━━━━━━━━━━━━━━━━━━━━━━━━\u001b[0m \u001b[32m139.8/139.8 kB\u001b[0m \u001b[31m13.3 MB/s\u001b[0m eta \u001b[36m0:00:00\u001b[0m\n",
            "\u001b[?25hDownloading werkzeug-3.0.6-py3-none-any.whl (227 kB)\n",
            "\u001b[2K   \u001b[90m━━━━━━━━━━━━━━━━━━━━━━━━━━━━━━━━━━━━━━━━\u001b[0m \u001b[32m228.0/228.0 kB\u001b[0m \u001b[31m21.0 MB/s\u001b[0m eta \u001b[36m0:00:00\u001b[0m\n",
            "\u001b[?25hDownloading addict-2.4.0-py3-none-any.whl (3.8 kB)\n",
            "Downloading ConfigArgParse-1.7-py3-none-any.whl (25 kB)\n",
            "Downloading pyquaternion-0.9.9-py3-none-any.whl (14 kB)\n",
            "Downloading comm-0.2.2-py3-none-any.whl (7.2 kB)\n",
            "Downloading widgetsnbextension-4.0.13-py3-none-any.whl (2.3 MB)\n",
            "\u001b[2K   \u001b[90m━━━━━━━━━━━━━━━━━━━━━━━━━━━━━━━━━━━━━━━━\u001b[0m \u001b[32m2.3/2.3 MB\u001b[0m \u001b[31m72.6 MB/s\u001b[0m eta \u001b[36m0:00:00\u001b[0m\n",
            "\u001b[?25hDownloading retrying-1.3.4-py3-none-any.whl (11 kB)\n",
            "Downloading jedi-0.19.2-py2.py3-none-any.whl (1.6 MB)\n",
            "\u001b[2K   \u001b[90m━━━━━━━━━━━━━━━━━━━━━━━━━━━━━━━━━━━━━━━━\u001b[0m \u001b[32m1.6/1.6 MB\u001b[0m \u001b[31m60.2 MB/s\u001b[0m eta \u001b[36m0:00:00\u001b[0m\n",
            "\u001b[?25hInstalling collected packages: dash-table, dash-html-components, dash-core-components, addict, widgetsnbextension, werkzeug, retrying, pyquaternion, jedi, configargparse, comm, ipywidgets, dash, open3d\n",
            "  Attempting uninstall: widgetsnbextension\n",
            "    Found existing installation: widgetsnbextension 3.6.10\n",
            "    Uninstalling widgetsnbextension-3.6.10:\n",
            "      Successfully uninstalled widgetsnbextension-3.6.10\n",
            "  Attempting uninstall: werkzeug\n",
            "    Found existing installation: Werkzeug 3.1.3\n",
            "    Uninstalling Werkzeug-3.1.3:\n",
            "      Successfully uninstalled Werkzeug-3.1.3\n",
            "  Attempting uninstall: ipywidgets\n",
            "    Found existing installation: ipywidgets 7.7.1\n",
            "    Uninstalling ipywidgets-7.7.1:\n",
            "      Successfully uninstalled ipywidgets-7.7.1\n",
            "Successfully installed addict-2.4.0 comm-0.2.2 configargparse-1.7 dash-2.18.2 dash-core-components-2.0.0 dash-html-components-2.0.0 dash-table-5.0.0 ipywidgets-8.1.5 jedi-0.19.2 open3d-0.18.0 pyquaternion-0.9.9 retrying-1.3.4 werkzeug-3.0.6 widgetsnbextension-4.0.13\n"
          ]
        }
      ]
    },
    {
      "cell_type": "markdown",
      "source": [
        "## 데이터 로드"
      ],
      "metadata": {
        "id": "Zt-rBv6HFPKc"
      }
    },
    {
      "cell_type": "code",
      "source": [
        "import open3d as o3d\n",
        "import os\n",
        "\n",
        "def load_all_pcd_files(folder_path):\n",
        "    pcd_files = []\n",
        "    for file_name in os.listdir(folder_path):\n",
        "        if file_name.endswith('.pcd'):\n",
        "            file_path = os.path.join(folder_path, file_name)\n",
        "            pcd = o3d.io.read_point_cloud(file_path)\n",
        "            pcd_files.append(pcd)\n",
        "    return pcd_files\n",
        "\n",
        "# PCD 폴더 경로\n",
        "folders = [\n",
        "    \"/content/drive/MyDrive/ColabNotebooks/20242R0136COSE41600/COSE416_HW1_data_v1/data/01_straight_walk/pcd\",\n",
        "    \"/content/drive/MyDrive/ColabNotebooks/20242R0136COSE41600/COSE416_HW1_data_v1/data/02_straight_duck_walk/pcd\",\n",
        "    \"/content/drive/MyDrive/ColabNotebooks/20242R0136COSE41600/COSE416_HW1_data_v1/data/03_straight_crawl/pcd\",\n",
        "    \"/content/drive/MyDrive/ColabNotebooks/20242R0136COSE41600/COSE416_HW1_data_v1/data/04_zigzag_walk/pcd\",\n",
        "    \"/content/drive/MyDrive/ColabNotebooks/20242R0136COSE41600/COSE416_HW1_data_v1/data/05_straight_duck_walk/pcd\",\n",
        "    \"/content/drive/MyDrive/ColabNotebooks/20242R0136COSE41600/COSE416_HW1_data_v1/data/06_straight_crawl/pcd\",\n",
        "    \"/content/drive/MyDrive/ColabNotebooks/20242R0136COSE41600/COSE416_HW1_data_v1/data/07_straight_walk/pcd\"\n",
        "]\n",
        "\n",
        "# 각 폴더의 PCD 파일 로딩\n",
        "all_pcd_files = []\n",
        "for folder in folders:\n",
        "    pcd_files = load_all_pcd_files(folder)\n",
        "    all_pcd_files.extend(pcd_files)\n",
        "\n",
        "print(f\"총 {len(all_pcd_files)}개의 PCD 파일이 로드되었습니다.\")\n",
        "\n"
      ],
      "metadata": {
        "id": "7mmiSfPV8JAW"
      },
      "execution_count": null,
      "outputs": []
    },
    {
      "cell_type": "markdown",
      "source": [
        "# downsampling"
      ],
      "metadata": {
        "id": "yGNrgghSW10j"
      }
    },
    {
      "cell_type": "code",
      "source": [
        "import open3d as o3d\n",
        "import os\n",
        "\n",
        "def load_all_pcd_files(folder_path):\n",
        "    \"\"\"폴더에서 모든 PCD 파일을 로드\"\"\"\n",
        "    pcd_files = []\n",
        "    if not os.path.exists(folder_path):\n",
        "        print(f\"[ERROR] 경로가 존재하지 않습니다: {folder_path}\")\n",
        "        return pcd_files\n",
        "\n",
        "    for file_name in os.listdir(folder_path):\n",
        "        if file_name.endswith('.pcd'):\n",
        "            file_path = os.path.join(folder_path, file_name)\n",
        "            try:\n",
        "                pcd = o3d.io.read_point_cloud(file_path)\n",
        "                pcd_files.append(pcd)\n",
        "            except Exception as e:\n",
        "                print(f\"[ERROR] 파일 로드 실패: {file_path} ({e})\")\n",
        "    return pcd_files\n",
        "\n"
      ],
      "metadata": {
        "id": "F9JlogL2W7K6"
      },
      "execution_count": 3,
      "outputs": []
    },
    {
      "cell_type": "code",
      "source": [
        "def preprocess_point_cloud(pcd, voxel_size=0.2):\n",
        "    \"\"\"PCD 데이터 전처리 (노이즈 제거 및 다운샘플링)\"\"\"\n",
        "    # 노이즈 제거\n",
        "    try:\n",
        "        pcd, ind = pcd.remove_statistical_outlier(nb_neighbors=20, std_ratio=2.0)\n",
        "    except Exception as e:\n",
        "        print(f\"[ERROR] 노이즈 제거 실패: {e}\")\n",
        "        return None\n",
        "\n",
        "    # 다운샘플링\n",
        "    try:\n",
        "        pcd = pcd.voxel_down_sample(voxel_size=voxel_size)\n",
        "    except Exception as e:\n",
        "        print(f\"[ERROR] 다운샘플링 실패: {e}\")\n",
        "        return None\n",
        "\n",
        "    return pcd\n",
        "\n",
        "\n"
      ],
      "metadata": {
        "id": "lu01raMcXUfL"
      },
      "execution_count": 4,
      "outputs": []
    },
    {
      "cell_type": "code",
      "source": [
        "# PCD 폴더 경로\n",
        "folders = [\n",
        "    \"/content/drive/MyDrive/ColabNotebooks/20242R0136COSE41600/COSE416_HW1_data_v1/data/01_straight_walk/pcd\",\n",
        "    \"/content/drive/MyDrive/ColabNotebooks/20242R0136COSE41600/COSE416_HW1_data_v1/data/02_straight_duck_walk/pcd\",\n",
        "    \"/content/drive/MyDrive/ColabNotebooks/20242R0136COSE41600/COSE416_HW1_data_v1/data/03_straight_crawl/pcd\",\n",
        "    \"/content/drive/MyDrive/ColabNotebooks/20242R0136COSE41600/COSE416_HW1_data_v1/data/04_zigzag_walk/pcd\",\n",
        "    \"/content/drive/MyDrive/ColabNotebooks/20242R0136COSE41600/COSE416_HW1_data_v1/data/05_straight_duck_walk/pcd\",\n",
        "    \"/content/drive/MyDrive/ColabNotebooks/20242R0136COSE41600/COSE416_HW1_data_v1/data/06_straight_crawl/pcd\",\n",
        "    \"/content/drive/MyDrive/ColabNotebooks/20242R0136COSE41600/COSE416_HW1_data_v1/data/07_straight_walk/pcd\"\n",
        "]\n",
        "\n"
      ],
      "metadata": {
        "id": "J802UARUXWTi"
      },
      "execution_count": 5,
      "outputs": []
    },
    {
      "cell_type": "code",
      "source": [
        "# 각 폴더의 PCD 파일 로딩 및 전처리\n",
        "all_processed_pcds = []\n",
        "for folder in folders:\n",
        "    print(f\"[INFO] 폴더 처리 중: {folder}\")\n",
        "    pcd_files = load_all_pcd_files(folder)\n",
        "    print(f\"[INFO] {len(pcd_files)}개의 파일 로드 완료\")\n",
        "\n",
        "    for pcd in pcd_files:\n",
        "        processed_pcd = preprocess_point_cloud(pcd, voxel_size=0.2)\n",
        "        if processed_pcd:\n",
        "            all_processed_pcds.append(processed_pcd)\n",
        "\n",
        "print(f\"총 {len(all_processed_pcds)}개의 PCD 파일이 로드되고 전처리되었습니다.\")\n",
        "\n"
      ],
      "metadata": {
        "colab": {
          "base_uri": "https://localhost:8080/",
          "height": 386
        },
        "id": "o3a08ClrXX2l",
        "outputId": "946dd3ca-cca0-4678-bb20-e932bacc7842"
      },
      "execution_count": 6,
      "outputs": [
        {
          "output_type": "stream",
          "name": "stdout",
          "text": [
            "[INFO] 폴더 처리 중: /content/drive/MyDrive/ColabNotebooks/20242R0136COSE41600/COSE416_HW1_data_v1/data/01_straight_walk/pcd\n",
            "[INFO] 288개의 파일 로드 완료\n"
          ]
        },
        {
          "output_type": "error",
          "ename": "KeyboardInterrupt",
          "evalue": "",
          "traceback": [
            "\u001b[0;31m---------------------------------------------------------------------------\u001b[0m",
            "\u001b[0;31mKeyboardInterrupt\u001b[0m                         Traceback (most recent call last)",
            "\u001b[0;32m<ipython-input-6-7787bf5f1c33>\u001b[0m in \u001b[0;36m<cell line: 3>\u001b[0;34m()\u001b[0m\n\u001b[1;32m      7\u001b[0m \u001b[0;34m\u001b[0m\u001b[0m\n\u001b[1;32m      8\u001b[0m     \u001b[0;32mfor\u001b[0m \u001b[0mpcd\u001b[0m \u001b[0;32min\u001b[0m \u001b[0mpcd_files\u001b[0m\u001b[0;34m:\u001b[0m\u001b[0;34m\u001b[0m\u001b[0;34m\u001b[0m\u001b[0m\n\u001b[0;32m----> 9\u001b[0;31m         \u001b[0mprocessed_pcd\u001b[0m \u001b[0;34m=\u001b[0m \u001b[0mpreprocess_point_cloud\u001b[0m\u001b[0;34m(\u001b[0m\u001b[0mpcd\u001b[0m\u001b[0;34m,\u001b[0m \u001b[0mvoxel_size\u001b[0m\u001b[0;34m=\u001b[0m\u001b[0;36m0.2\u001b[0m\u001b[0;34m)\u001b[0m\u001b[0;34m\u001b[0m\u001b[0;34m\u001b[0m\u001b[0m\n\u001b[0m\u001b[1;32m     10\u001b[0m         \u001b[0;32mif\u001b[0m \u001b[0mprocessed_pcd\u001b[0m\u001b[0;34m:\u001b[0m\u001b[0;34m\u001b[0m\u001b[0;34m\u001b[0m\u001b[0m\n\u001b[1;32m     11\u001b[0m             \u001b[0mall_processed_pcds\u001b[0m\u001b[0;34m.\u001b[0m\u001b[0mappend\u001b[0m\u001b[0;34m(\u001b[0m\u001b[0mprocessed_pcd\u001b[0m\u001b[0;34m)\u001b[0m\u001b[0;34m\u001b[0m\u001b[0;34m\u001b[0m\u001b[0m\n",
            "\u001b[0;32m<ipython-input-4-5844544955d3>\u001b[0m in \u001b[0;36mpreprocess_point_cloud\u001b[0;34m(pcd, voxel_size)\u001b[0m\n\u001b[1;32m      3\u001b[0m     \u001b[0;31m# 노이즈 제거\u001b[0m\u001b[0;34m\u001b[0m\u001b[0;34m\u001b[0m\u001b[0m\n\u001b[1;32m      4\u001b[0m     \u001b[0;32mtry\u001b[0m\u001b[0;34m:\u001b[0m\u001b[0;34m\u001b[0m\u001b[0;34m\u001b[0m\u001b[0m\n\u001b[0;32m----> 5\u001b[0;31m         \u001b[0mpcd\u001b[0m\u001b[0;34m,\u001b[0m \u001b[0mind\u001b[0m \u001b[0;34m=\u001b[0m \u001b[0mpcd\u001b[0m\u001b[0;34m.\u001b[0m\u001b[0mremove_statistical_outlier\u001b[0m\u001b[0;34m(\u001b[0m\u001b[0mnb_neighbors\u001b[0m\u001b[0;34m=\u001b[0m\u001b[0;36m20\u001b[0m\u001b[0;34m,\u001b[0m \u001b[0mstd_ratio\u001b[0m\u001b[0;34m=\u001b[0m\u001b[0;36m2.0\u001b[0m\u001b[0;34m)\u001b[0m\u001b[0;34m\u001b[0m\u001b[0;34m\u001b[0m\u001b[0m\n\u001b[0m\u001b[1;32m      6\u001b[0m     \u001b[0;32mexcept\u001b[0m \u001b[0mException\u001b[0m \u001b[0;32mas\u001b[0m \u001b[0me\u001b[0m\u001b[0;34m:\u001b[0m\u001b[0;34m\u001b[0m\u001b[0;34m\u001b[0m\u001b[0m\n\u001b[1;32m      7\u001b[0m         \u001b[0mprint\u001b[0m\u001b[0;34m(\u001b[0m\u001b[0;34mf\"[ERROR] 노이즈 제거 실패: {e}\"\u001b[0m\u001b[0;34m)\u001b[0m\u001b[0;34m\u001b[0m\u001b[0;34m\u001b[0m\u001b[0m\n",
            "\u001b[0;31mKeyboardInterrupt\u001b[0m: "
          ]
        }
      ]
    },
    {
      "cell_type": "code",
      "source": [
        "# 간단한 결과 확인 (첫 번째 PCD 시각화)\n",
        "if all_processed_pcds:\n",
        "    print(f\"첫 번째 PCD의 점 개수: {len(all_processed_pcds[0].points)}\")\n",
        "    o3d.visualization.draw_geometries([all_processed_pcds[0]])\n",
        "else:\n",
        "    print(\"[WARNING] 처리된 PCD 데이터가 없습니다.\")"
      ],
      "metadata": {
        "id": "OXoccoYMXZ4C"
      },
      "execution_count": null,
      "outputs": []
    },
    {
      "cell_type": "markdown",
      "source": [
        "# 계층적 샘플링"
      ],
      "metadata": {
        "id": "qnrdFsEUfJT2"
      }
    },
    {
      "cell_type": "code",
      "source": [
        "import os\n",
        "import random\n",
        "from collections import defaultdict\n",
        "\n",
        "def get_files_by_behavior(folders):\n",
        "    \"\"\"\n",
        "    각 행동(폴더)에서 PCD 파일을 분류하여 반환.\n",
        "    \"\"\"\n",
        "    behavior_files = defaultdict(list)\n",
        "    for folder in folders:\n",
        "        behavior_name = os.path.basename(os.path.dirname(folder))  # 폴더 이름을 행동 이름으로 사용\n",
        "        for file_name in os.listdir(folder):\n",
        "            if file_name.endswith('.pcd'):\n",
        "                file_path = os.path.join(folder, file_name)\n",
        "                behavior_files[behavior_name].append(file_path)\n",
        "    return behavior_files\n"
      ],
      "metadata": {
        "id": "yhgkNdeLfIs2"
      },
      "execution_count": 30,
      "outputs": []
    },
    {
      "cell_type": "code",
      "source": [
        "def stratified_sampling(behavior_files, behavior_ratios):\n",
        "    \"\"\"\n",
        "    각 행동별로 설정된 비율로 데이터를 샘플링.\n",
        "    \"\"\"\n",
        "    sampled_files = []\n",
        "    for behavior, files in behavior_files.items():\n",
        "        sample_ratio = behavior_ratios.get(behavior, 0.3)  # 비율이 지정되지 않은 경우 기본값 0.3\n",
        "        sample_size = int(len(files) * sample_ratio)  # 행동별 샘플링 개수\n",
        "        sampled_behavior_files = random.sample(files, min(sample_size, len(files)))  # 샘플링\n",
        "        sampled_files.extend(sampled_behavior_files)  # 결과에 추가\n",
        "        print(f\"[{behavior}] 총 {len(files)}개 중 {len(sampled_behavior_files)}개 샘플링\")\n",
        "    return sampled_files\n"
      ],
      "metadata": {
        "id": "ubLw0M01fdCj"
      },
      "execution_count": 31,
      "outputs": []
    },
    {
      "cell_type": "code",
      "source": [
        "# 행동별 PCD 파일이 저장된 폴더 리스트\n",
        "folders = [\n",
        "    \"/content/drive/MyDrive/ColabNotebooks/20242R0136COSE41600/COSE416_HW1_data_v1/data/01_straight_walk/pcd\",\n",
        "    \"/content/drive/MyDrive/ColabNotebooks/20242R0136COSE41600/COSE416_HW1_data_v1/data/02_straight_duck_walk/pcd\",\n",
        "    \"/content/drive/MyDrive/ColabNotebooks/20242R0136COSE41600/COSE416_HW1_data_v1/data/03_straight_crawl/pcd\",\n",
        "    \"/content/drive/MyDrive/ColabNotebooks/20242R0136COSE41600/COSE416_HW1_data_v1/data/04_zigzag_walk/pcd\",\n",
        "    \"/content/drive/MyDrive/ColabNotebooks/20242R0136COSE41600/COSE416_HW1_data_v1/data/05_straight_duck_walk/pcd\",\n",
        "    \"/content/drive/MyDrive/ColabNotebooks/20242R0136COSE41600/COSE416_HW1_data_v1/data/06_straight_crawl/pcd\",\n",
        "    \"/content/drive/MyDrive/ColabNotebooks/20242R0136COSE41600/COSE416_HW1_data_v1/data/07_straight_walk/pcd\"\n",
        "]"
      ],
      "metadata": {
        "id": "neq-cqHmffg0"
      },
      "execution_count": 32,
      "outputs": []
    },
    {
      "cell_type": "code",
      "source": [
        "# 행동별 샘플링 비율 설정\n",
        "behavior_ratios = {\n",
        "    \"01_straight_walk\": 0.6,\n",
        "    \"02_straight_duck_walk\": 0.5,\n",
        "    \"03_straight_crawl\": 0.3,\n",
        "    \"04_zigzag_walk\": 0.5,\n",
        "    \"05_straight_duck_walk\": 0.5,\n",
        "    \"06_straight_crawl\": 0.4,\n",
        "    \"07_straight_walk\": 0.5\n",
        "}"
      ],
      "metadata": {
        "id": "Qaiu708hfhYm"
      },
      "execution_count": 33,
      "outputs": []
    },
    {
      "cell_type": "code",
      "source": [
        "# 1. 행동별 파일 리스트 가져오기\n",
        "behavior_files = get_files_by_behavior(folders)"
      ],
      "metadata": {
        "id": "lwC9ryk4fiC5"
      },
      "execution_count": 34,
      "outputs": []
    },
    {
      "cell_type": "code",
      "source": [
        "# 각 행동별 파일 수 출력 (디버깅용)\n",
        "for behavior, files in behavior_files.items():\n",
        "    print(f\"[{behavior}] 총 파일 수: {len(files)}\")"
      ],
      "metadata": {
        "colab": {
          "base_uri": "https://localhost:8080/"
        },
        "id": "pIwC-UW0iAY2",
        "outputId": "52bd265a-9d4b-43ce-b961-80ef6739ef05"
      },
      "execution_count": 35,
      "outputs": [
        {
          "output_type": "stream",
          "name": "stdout",
          "text": [
            "[01_straight_walk] 총 파일 수: 288\n",
            "[02_straight_duck_walk] 총 파일 수: 549\n",
            "[03_straight_crawl] 총 파일 수: 1260\n",
            "[04_zigzag_walk] 총 파일 수: 364\n",
            "[05_straight_duck_walk] 총 파일 수: 577\n",
            "[06_straight_crawl] 총 파일 수: 774\n",
            "[07_straight_walk] 총 파일 수: 443\n"
          ]
        }
      ]
    },
    {
      "cell_type": "code",
      "source": [
        "# 2. 계층적 샘플링 수행\n",
        "sampled_files = stratified_sampling(behavior_files, behavior_ratios)\n",
        "\n",
        "print(\"\\n샘플링된 총 파일 수:\", len(sampled_files))"
      ],
      "metadata": {
        "colab": {
          "base_uri": "https://localhost:8080/"
        },
        "id": "5MyXz2Wcfk9z",
        "outputId": "c8fe9194-a692-4c96-f9eb-dafab0217682"
      },
      "execution_count": 36,
      "outputs": [
        {
          "output_type": "stream",
          "name": "stdout",
          "text": [
            "[01_straight_walk] 총 288개 중 172개 샘플링\n",
            "[02_straight_duck_walk] 총 549개 중 274개 샘플링\n",
            "[03_straight_crawl] 총 1260개 중 378개 샘플링\n",
            "[04_zigzag_walk] 총 364개 중 182개 샘플링\n",
            "[05_straight_duck_walk] 총 577개 중 288개 샘플링\n",
            "[06_straight_crawl] 총 774개 중 309개 샘플링\n",
            "[07_straight_walk] 총 443개 중 221개 샘플링\n",
            "\n",
            "샘플링된 총 파일 수: 1824\n"
          ]
        }
      ]
    },
    {
      "cell_type": "code",
      "source": [
        "import shutil"
      ],
      "metadata": {
        "id": "f97q3VWWjIUu"
      },
      "execution_count": 37,
      "outputs": []
    },
    {
      "cell_type": "code",
      "source": [
        "# 3. 샘플링된 파일 저장\n",
        "\n",
        "def save_sampled_files(sampled_files, output_folder):\n",
        "    \"\"\"\n",
        "    샘플링된 파일을 지정된 폴더에 저장.\n",
        "    \"\"\"\n",
        "    if not os.path.exists(output_folder):\n",
        "        os.makedirs(output_folder)\n",
        "\n",
        "    for file_path in sampled_files:\n",
        "        file_name = os.path.basename(file_path)\n",
        "        shutil.copy(file_path, os.path.join(output_folder, file_name))\n",
        "\n",
        "# 3. 샘플링된 파일 저장\n",
        "output_folder = \"/content/drive/MyDrive/ColabNotebooks/20242R0136COSE41600/COSE416_HW1_data_v1/sampled_pcd_files\"\n",
        "save_sampled_files(sampled_files, output_folder)\n",
        "\n",
        "# 저장된 파일 목록 출력 (디버깅용)\n",
        "saved_files = os.listdir(output_folder)\n",
        "print(f\"저장된 파일 목록: {saved_files}\")"
      ],
      "metadata": {
        "colab": {
          "base_uri": "https://localhost:8080/"
        },
        "id": "9ykiqWS6ig7I",
        "outputId": "0d133c3f-d028-46f5-ab85-9429d7c1ccc0"
      },
      "execution_count": 42,
      "outputs": [
        {
          "output_type": "stream",
          "name": "stdout",
          "text": [
            "저장된 파일 목록: ['pcd_000170.pcd', 'pcd_000039.pcd', 'pcd_000135.pcd', 'pcd_000196.pcd', 'pcd_000274.pcd', 'pcd_000242.pcd', 'pcd_000015.pcd', 'pcd_000052.pcd', 'pcd_000019.pcd', 'pcd_000081.pcd', 'pcd_000042.pcd', 'pcd_000145.pcd', 'pcd_000286.pcd', 'pcd_000080.pcd', 'pcd_000191.pcd', 'pcd_000204.pcd', 'pcd_000031.pcd', 'pcd_000139.pcd', 'pcd_000027.pcd', 'pcd_000213.pcd', 'pcd_000233.pcd', 'pcd_000004.pcd', 'pcd_000152.pcd', 'pcd_000120.pcd', 'pcd_000217.pcd', 'pcd_000026.pcd', 'pcd_000254.pcd', 'pcd_000011.pcd', 'pcd_000008.pcd', 'pcd_000216.pcd', 'pcd_000202.pcd', 'pcd_000024.pcd', 'pcd_000100.pcd', 'pcd_000230.pcd', 'pcd_000079.pcd', 'pcd_000261.pcd', 'pcd_000250.pcd', 'pcd_000198.pcd', 'pcd_000062.pcd', 'pcd_000193.pcd', 'pcd_000221.pcd', 'pcd_000157.pcd', 'pcd_000239.pcd', 'pcd_000126.pcd', 'pcd_000246.pcd', 'pcd_000143.pcd', 'pcd_000060.pcd', 'pcd_000041.pcd', 'pcd_000037.pcd', 'pcd_000092.pcd', 'pcd_000185.pcd', 'pcd_000272.pcd', 'pcd_000173.pcd', 'pcd_000211.pcd', 'pcd_000022.pcd', 'pcd_000048.pcd', 'pcd_000184.pcd', 'pcd_000166.pcd', 'pcd_000188.pcd', 'pcd_000104.pcd', 'pcd_000047.pcd', 'pcd_000168.pcd', 'pcd_000091.pcd', 'pcd_000252.pcd', 'pcd_000131.pcd', 'pcd_000058.pcd', 'pcd_000154.pcd', 'pcd_000203.pcd', 'pcd_000218.pcd', 'pcd_000097.pcd', 'pcd_000103.pcd', 'pcd_000273.pcd', 'pcd_000228.pcd', 'pcd_000070.pcd', 'pcd_000158.pcd', 'pcd_000107.pcd', 'pcd_000270.pcd', 'pcd_000014.pcd', 'pcd_000106.pcd', 'pcd_000053.pcd', 'pcd_000206.pcd', 'pcd_000234.pcd', 'pcd_000013.pcd', 'pcd_000046.pcd', 'pcd_000068.pcd', 'pcd_000098.pcd', 'pcd_000002.pcd', 'pcd_000087.pcd', 'pcd_000129.pcd', 'pcd_000153.pcd', 'pcd_000030.pcd', 'pcd_000229.pcd', 'pcd_000227.pcd', 'pcd_000130.pcd', 'pcd_000209.pcd', 'pcd_000275.pcd', 'pcd_000200.pcd', 'pcd_000251.pcd', 'pcd_000116.pcd', 'pcd_000063.pcd', 'pcd_000163.pcd', 'pcd_000276.pcd', 'pcd_000054.pcd', 'pcd_000078.pcd', 'pcd_000226.pcd', 'pcd_000035.pcd', 'pcd_000212.pcd', 'pcd_000076.pcd', 'pcd_000247.pcd', 'pcd_000199.pcd', 'pcd_000010.pcd', 'pcd_000243.pcd', 'pcd_000123.pcd', 'pcd_000179.pcd', 'pcd_000147.pcd', 'pcd_000162.pcd', 'pcd_000083.pcd', 'pcd_000134.pcd', 'pcd_000006.pcd', 'pcd_000122.pcd', 'pcd_000156.pcd', 'pcd_000141.pcd', 'pcd_000249.pcd', 'pcd_000260.pcd', 'pcd_000075.pcd', 'pcd_000066.pcd', 'pcd_000009.pcd', 'pcd_000255.pcd', 'pcd_000194.pcd', 'pcd_000235.pcd', 'pcd_000180.pcd', 'pcd_000210.pcd', 'pcd_000219.pcd', 'pcd_000183.pcd', 'pcd_000287.pcd', 'pcd_000285.pcd', 'pcd_000071.pcd', 'pcd_000086.pcd', 'pcd_000084.pcd', 'pcd_000059.pcd', 'pcd_000128.pcd', 'pcd_000142.pcd', 'pcd_000197.pcd', 'pcd_000149.pcd', 'pcd_000205.pcd', 'pcd_000109.pcd', 'pcd_000189.pcd', 'pcd_000108.pcd', 'pcd_000138.pcd', 'pcd_000045.pcd', 'pcd_000132.pcd', 'pcd_000056.pcd', 'pcd_000190.pcd', 'pcd_000177.pcd', 'pcd_000074.pcd', 'pcd_000093.pcd', 'pcd_000032.pcd', 'pcd_000241.pcd', 'pcd_000262.pcd', 'pcd_000085.pcd', 'pcd_000043.pcd', 'pcd_000160.pcd', 'pcd_000077.pcd', 'pcd_000124.pcd', 'pcd_000195.pcd', 'pcd_000167.pcd', 'pcd_000268.pcd', 'pcd_000064.pcd', 'pcd_000121.pcd', 'pcd_000012.pcd', 'pcd_000244.pcd', 'pcd_000207.pcd', 'pcd_000485.pcd', 'pcd_000512.pcd', 'pcd_000544.pcd', 'pcd_000101.pcd', 'pcd_000358.pcd', 'pcd_000146.pcd', 'pcd_000317.pcd', 'pcd_000088.pcd', 'pcd_000413.pcd', 'pcd_000231.pcd', 'pcd_000475.pcd', 'pcd_000057.pcd', 'pcd_000369.pcd', 'pcd_000318.pcd', 'pcd_000222.pcd', 'pcd_000448.pcd', 'pcd_000308.pcd', 'pcd_000289.pcd', 'pcd_000421.pcd', 'pcd_000399.pcd', 'pcd_000164.pcd', 'pcd_000345.pcd', 'pcd_000468.pcd', 'pcd_000381.pcd', 'pcd_000240.pcd', 'pcd_000528.pcd', 'pcd_000127.pcd', 'pcd_000478.pcd', 'pcd_000174.pcd', 'pcd_000519.pcd', 'pcd_000377.pcd', 'pcd_000464.pcd', 'pcd_000067.pcd', 'pcd_000487.pcd', 'pcd_000299.pcd', 'pcd_000137.pcd', 'pcd_000292.pcd', 'pcd_000523.pcd', 'pcd_000379.pcd', 'pcd_000340.pcd', 'pcd_000515.pcd', 'pcd_000232.pcd', 'pcd_000245.pcd', 'pcd_000051.pcd', 'pcd_000339.pcd', 'pcd_000361.pcd', 'pcd_000490.pcd', 'pcd_000089.pcd', 'pcd_000375.pcd', 'pcd_000331.pcd', 'pcd_000349.pcd', 'pcd_000456.pcd', 'pcd_000313.pcd', 'pcd_000343.pcd', 'pcd_000386.pcd', 'pcd_000044.pcd', 'pcd_000462.pcd', 'pcd_000352.pcd', 'pcd_000529.pcd', 'pcd_000366.pcd', 'pcd_000329.pcd', 'pcd_000309.pcd', 'pcd_000267.pcd', 'pcd_000300.pcd', 'pcd_000301.pcd', 'pcd_000266.pcd', 'pcd_000415.pcd', 'pcd_000325.pcd', 'pcd_000507.pcd', 'pcd_000334.pcd', 'pcd_000428.pcd', 'pcd_000344.pcd', 'pcd_000363.pcd', 'pcd_000096.pcd', 'pcd_000447.pcd', 'pcd_000438.pcd', 'pcd_000380.pcd', 'pcd_000455.pcd', 'pcd_000533.pcd', 'pcd_000449.pcd', 'pcd_000072.pcd', 'pcd_000290.pcd', 'pcd_000391.pcd', 'pcd_000370.pcd', 'pcd_000484.pcd', 'pcd_000215.pcd', 'pcd_000114.pcd', 'pcd_000257.pcd', 'pcd_000038.pcd', 'pcd_000020.pcd', 'pcd_000175.pcd', 'pcd_000025.pcd', 'pcd_000405.pcd', 'pcd_000338.pcd', 'pcd_000427.pcd', 'pcd_000451.pcd', 'pcd_000535.pcd', 'pcd_000225.pcd', 'pcd_000306.pcd', 'pcd_000264.pcd', 'pcd_000259.pcd', 'pcd_000510.pcd', 'pcd_000409.pcd', 'pcd_000125.pcd', 'pcd_000419.pcd', 'pcd_000534.pcd', 'pcd_000333.pcd', 'pcd_000223.pcd', 'pcd_000521.pcd', 'pcd_000033.pcd', 'pcd_000505.pcd', 'pcd_000347.pcd', 'pcd_000397.pcd', 'pcd_000328.pcd', 'pcd_000320.pcd', 'pcd_000408.pcd', 'pcd_000330.pcd', 'pcd_000488.pcd', 'pcd_000208.pcd', 'pcd_000497.pcd', 'pcd_000159.pcd', 'pcd_000493.pcd', 'pcd_000437.pcd', 'pcd_000172.pcd', 'pcd_000005.pcd', 'pcd_000332.pcd', 'pcd_000489.pcd', 'pcd_000536.pcd', 'pcd_000323.pcd', 'pcd_000434.pcd', 'pcd_000034.pcd', 'pcd_000367.pcd', 'pcd_000281.pcd', 'pcd_000165.pcd', 'pcd_000394.pcd', 'pcd_000119.pcd', 'pcd_000390.pcd', 'pcd_000326.pcd', 'pcd_000023.pcd', 'pcd_000473.pcd', 'pcd_000371.pcd', 'pcd_000356.pcd', 'pcd_000118.pcd', 'pcd_000312.pcd', 'pcd_000342.pcd', 'pcd_000374.pcd', 'pcd_000549.pcd', 'pcd_000248.pcd', 'pcd_000316.pcd', 'pcd_000293.pcd', 'pcd_000324.pcd', 'pcd_000453.pcd', 'pcd_000355.pcd', 'pcd_000498.pcd', 'pcd_000445.pcd', 'pcd_000418.pcd', 'pcd_000431.pcd', 'pcd_000007.pcd', 'pcd_000237.pcd', 'pcd_000503.pcd', 'pcd_000368.pcd', 'pcd_000420.pcd', 'pcd_000384.pcd', 'pcd_000112.pcd', 'pcd_000425.pcd', 'pcd_000224.pcd', 'pcd_000314.pcd', 'pcd_000357.pcd', 'pcd_000133.pcd', 'pcd_000291.pcd', 'pcd_000483.pcd', 'pcd_000452.pcd', 'pcd_000532.pcd', 'pcd_000513.pcd', 'pcd_000539.pcd', 'pcd_000258.pcd', 'pcd_000341.pcd', 'pcd_000297.pcd', 'pcd_000364.pcd', 'pcd_000284.pcd', 'pcd_000479.pcd', 'pcd_000508.pcd', 'pcd_000280.pcd', 'pcd_001211.pcd', 'pcd_000003.pcd', 'pcd_000759.pcd', 'pcd_000569.pcd', 'pcd_000874.pcd', 'pcd_001118.pcd', 'pcd_000635.pcd', 'pcd_000786.pcd', 'pcd_000757.pcd', 'pcd_000472.pcd', 'pcd_000049.pcd', 'pcd_001117.pcd', 'pcd_000518.pcd', 'pcd_000546.pcd', 'pcd_000848.pcd', 'pcd_000902.pcd', 'pcd_000929.pcd', 'pcd_000407.pcd', 'pcd_001103.pcd', 'pcd_000645.pcd', 'pcd_000732.pcd', 'pcd_000683.pcd', 'pcd_001036.pcd', 'pcd_000807.pcd', 'pcd_000525.pcd', 'pcd_000102.pcd', 'pcd_001112.pcd', 'pcd_000696.pcd', 'pcd_000640.pcd', 'pcd_000774.pcd', 'pcd_000791.pcd', 'pcd_000556.pcd', 'pcd_000625.pcd', 'pcd_000801.pcd', 'pcd_001042.pcd', 'pcd_000354.pcd', 'pcd_000476.pcd', 'pcd_001025.pcd', 'pcd_000509.pcd', 'pcd_001201.pcd', 'pcd_001026.pcd', 'pcd_000718.pcd', 'pcd_000073.pcd', 'pcd_000741.pcd', 'pcd_001141.pcd', 'pcd_001090.pcd', 'pcd_000543.pcd', 'pcd_001234.pcd', 'pcd_000836.pcd', 'pcd_000886.pcd', 'pcd_000590.pcd', 'pcd_000968.pcd', 'pcd_001126.pcd', 'pcd_000263.pcd', 'pcd_000997.pcd', 'pcd_000560.pcd', 'pcd_000017.pcd', 'pcd_000904.pcd', 'pcd_001245.pcd', 'pcd_000579.pcd', 'pcd_000926.pcd', 'pcd_000730.pcd', 'pcd_000999.pcd', 'pcd_000951.pcd', 'pcd_000785.pcd', 'pcd_000599.pcd', 'pcd_000791 (1).pcd', 'pcd_000829.pcd', 'pcd_000956.pcd', 'pcd_001088.pcd', 'pcd_001222.pcd', 'pcd_001123.pcd', 'pcd_000637.pcd', 'pcd_000949.pcd', 'pcd_000887.pcd', 'pcd_000980.pcd', 'pcd_000600.pcd', 'pcd_001023.pcd', 'pcd_000797.pcd', 'pcd_000641.pcd', 'pcd_001137.pcd', 'pcd_000482.pcd', 'pcd_001080.pcd', 'pcd_000417.pcd', 'pcd_000714.pcd', 'pcd_000663.pcd', 'pcd_000466.pcd', 'pcd_000169.pcd', 'pcd_001170.pcd', 'pcd_001169.pcd', 'pcd_000749.pcd', 'pcd_000703.pcd', 'pcd_000782.pcd', 'pcd_001034.pcd', 'pcd_001060.pcd', 'pcd_001031.pcd', 'pcd_000565.pcd', 'pcd_001130.pcd', 'pcd_000500.pcd', 'pcd_000672.pcd', 'pcd_000140.pcd', 'pcd_001052.pcd', 'pcd_001070.pcd', 'pcd_000689.pcd', 'pcd_001048.pcd', 'pcd_000016.pcd', 'pcd_000903.pcd', 'pcd_000915.pcd', 'pcd_000861.pcd', 'pcd_000604.pcd', 'pcd_000648.pcd', 'pcd_000700.pcd', 'pcd_000278.pcd', 'pcd_000852.pcd', 'pcd_000346.pcd', 'pcd_000661.pcd', 'pcd_001030.pcd', 'pcd_000412.pcd', 'pcd_000402.pcd', 'pcd_000744.pcd', 'pcd_001110.pcd', 'pcd_000644.pcd', 'pcd_001230.pcd', 'pcd_001092.pcd', 'pcd_001085.pcd', 'pcd_001180.pcd', 'pcd_000113.pcd', 'pcd_000283.pcd', 'pcd_001095.pcd', 'pcd_001195.pcd', 'pcd_000570.pcd', 'pcd_001040.pcd', 'pcd_000817.pcd', 'pcd_001102.pcd', 'pcd_001166.pcd', 'pcd_001177.pcd', 'pcd_001194.pcd', 'pcd_000688.pcd', 'pcd_000656.pcd', 'pcd_001113.pcd', 'pcd_001246.pcd', 'pcd_000673.pcd', 'pcd_000921.pcd', 'pcd_001160.pcd', 'pcd_001241.pcd', 'pcd_000761.pcd', 'pcd_000001.pcd', 'pcd_001157.pcd', 'pcd_001249.pcd', 'pcd_000711.pcd', 'pcd_000655.pcd', 'pcd_000931.pcd', 'pcd_000814.pcd', 'pcd_000932.pcd', 'pcd_000789.pcd', 'pcd_000115.pcd', 'pcd_000939.pcd', 'pcd_000819.pcd', 'pcd_000311.pcd', 'pcd_000719.pcd', 'pcd_000350.pcd', 'pcd_000669.pcd', 'pcd_001021.pcd', 'pcd_000646.pcd', 'pcd_000365.pcd', 'pcd_000876.pcd', 'pcd_001206.pcd', 'pcd_000930.pcd', 'pcd_000623.pcd', 'pcd_000713.pcd', 'pcd_000469.pcd', 'pcd_000833.pcd', 'pcd_001189.pcd', 'pcd_000786 (1).pcd', 'pcd_000914.pcd', 'pcd_000416.pcd', 'pcd_000994.pcd', 'pcd_000400.pcd', 'pcd_000954.pcd', 'pcd_000178.pcd', 'pcd_000574.pcd', 'pcd_000822.pcd', 'pcd_000752.pcd', 'pcd_001191.pcd', 'pcd_000842.pcd', 'pcd_000963.pcd', 'pcd_001071.pcd', 'pcd_001176.pcd', 'pcd_000522.pcd', 'pcd_001094.pcd', 'pcd_000303.pcd', 'pcd_000304.pcd', 'pcd_000307.pcd', 'pcd_000780.pcd', 'pcd_000747.pcd', 'pcd_000722.pcd', 'pcd_000516.pcd', 'pcd_000823.pcd', 'pcd_000808.pcd', 'pcd_000751.pcd', 'pcd_000457.pcd', 'pcd_001187.pcd', 'pcd_000838.pcd', 'pcd_000787 (1).pcd', 'pcd_000864.pcd', 'pcd_000763.pcd', 'pcd_000965.pcd', 'pcd_000568.pcd', 'pcd_000734.pcd', 'pcd_000680.pcd', 'pcd_000467.pcd', 'pcd_000879.pcd', 'pcd_000055.pcd', 'pcd_001044.pcd', 'pcd_000021.pcd', 'pcd_000638.pcd', 'pcd_001127.pcd', 'pcd_000827.pcd', 'pcd_001239.pcd', 'pcd_000878.pcd', 'pcd_000798.pcd', 'pcd_000265.pcd', 'pcd_000279.pcd', 'pcd_000504.pcd', 'pcd_001190.pcd', 'pcd_000723.pcd', 'pcd_000393.pcd', 'pcd_000439.pcd', 'pcd_000440.pcd', 'pcd_001083.pcd', 'pcd_000537.pcd', 'pcd_000105.pcd', 'pcd_000411.pcd', 'pcd_001202.pcd', 'pcd_001019.pcd', 'pcd_001029.pcd', 'pcd_000976.pcd', 'pcd_000825.pcd', 'pcd_000186.pcd', 'pcd_000069.pcd', 'pcd_000717.pcd', 'pcd_000729.pcd', 'pcd_000906.pcd', 'pcd_000898.pcd', 'pcd_000793.pcd', 'pcd_000388.pcd', 'pcd_001173.pcd', 'pcd_001061.pcd', 'pcd_000578.pcd', 'pcd_000480.pcd', 'pcd_000649.pcd', 'pcd_000919.pcd', 'pcd_000465.pcd', 'pcd_001027.pcd', 'pcd_000758.pcd', 'pcd_000779.pcd', 'pcd_000953.pcd', 'pcd_000155.pcd', 'pcd_001006.pcd', 'pcd_000382.pcd', 'pcd_000871.pcd', 'pcd_000795.pcd', 'pcd_000362.pcd', 'pcd_001051.pcd', 'pcd_000587.pcd', 'pcd_000576.pcd', 'pcd_000327.pcd', 'pcd_001179.pcd', 'pcd_000981.pcd', 'pcd_000991.pcd', 'pcd_001012.pcd', 'pcd_000385.pcd', 'pcd_001132.pcd', 'pcd_001235.pcd', 'pcd_000542.pcd', 'pcd_001075.pcd', 'pcd_001165.pcd', 'pcd_000726.pcd', 'pcd_000253.pcd', 'pcd_000018.pcd', 'pcd_000150.pcd', 'pcd_000220.pcd', 'pcd_000182.pcd', 'pcd_000144.pcd', 'pcd_000110.pcd', 'pcd_000176.pcd', 'pcd_000136.pcd', 'pcd_000161.pcd', 'pcd_000315.pcd', 'pcd_000040.pcd', 'pcd_000348.pcd', 'pcd_000337.pcd', 'pcd_000214.pcd', 'pcd_000271.pcd', 'pcd_000256.pcd', 'pcd_000296.pcd', 'pcd_000061.pcd', 'pcd_000095.pcd', 'pcd_000238.pcd', 'pcd_000335.pcd', 'pcd_000294.pcd', 'pcd_000319.pcd', 'pcd_000359.pcd', 'pcd_000065.pcd', 'pcd_000099.pcd', 'pcd_000090.pcd', 'pcd_000494.pcd', 'pcd_000148.pcd', 'pcd_000567.pcd', 'pcd_000524.pcd', 'pcd_000563.pcd', 'pcd_000429.pcd', 'pcd_000474.pcd', 'pcd_000561.pcd', 'pcd_000389.pcd', 'pcd_000117.pcd', 'pcd_000401.pcd', 'pcd_000410.pcd', 'pcd_000336.pcd', 'pcd_000571.pcd', 'pcd_000463.pcd', 'pcd_000477.pcd', 'pcd_000423.pcd', 'pcd_000501.pcd', 'pcd_000502.pcd', 'pcd_000111.pcd', 'pcd_000442.pcd', 'pcd_000471.pcd', 'pcd_000322.pcd', 'pcd_000422.pcd', 'pcd_000470.pcd', 'pcd_000171.pcd', 'pcd_000376.pcd', 'pcd_000575.pcd', 'pcd_000441.pcd', 'pcd_000351.pcd', 'pcd_000553.pcd', 'pcd_000414.pcd', 'pcd_000151.pcd', 'pcd_000383.pcd', 'pcd_000028.pcd', 'pcd_000321.pcd', 'pcd_000551.pcd', 'pcd_000552.pcd', 'pcd_000094.pcd', 'pcd_000424.pcd', 'pcd_000540.pcd', 'pcd_000378.pcd', 'pcd_000302.pcd', 'pcd_000395.pcd', 'pcd_000029.pcd', 'pcd_000573.pcd', 'pcd_000559.pcd', 'pcd_000450.pcd', 'pcd_000496.pcd', 'pcd_000269.pcd', 'pcd_000082.pcd', 'pcd_000282.pcd', 'pcd_000277.pcd', 'pcd_000181.pcd', 'pcd_000506.pcd', 'pcd_000486.pcd', 'pcd_000305.pcd', 'pcd_000492.pcd', 'pcd_000295.pcd', 'pcd_000201.pcd', 'pcd_000562.pcd', 'pcd_000458.pcd', 'pcd_000360.pcd', 'pcd_000541.pcd', 'pcd_000686.pcd', 'pcd_000771.pcd', 'pcd_000589.pcd', 'pcd_000298.pcd', 'pcd_000742.pcd', 'pcd_000531.pcd', 'pcd_000651.pcd', 'pcd_000592.pcd', 'pcd_000639.pcd', 'pcd_000617.pcd', 'pcd_000392.pcd', 'pcd_000666.pcd', 'pcd_000610.pcd', 'pcd_000606.pcd', 'pcd_000670.pcd', 'pcd_000765.pcd', 'pcd_000750.pcd', 'pcd_000764.pcd', 'pcd_000609.pcd', 'pcd_000581.pcd', 'pcd_000619.pcd', 'pcd_000633.pcd', 'pcd_000446.pcd', 'pcd_000187.pcd', 'pcd_000611.pcd', 'pcd_000770.pcd', 'pcd_000585.pcd', 'pcd_000632.pcd', 'pcd_000772.pcd', 'pcd_000577.pcd', 'pcd_000682.pcd', 'pcd_000491.pcd', 'pcd_000583.pcd', 'pcd_000664.pcd', 'pcd_000647.pcd', 'pcd_000495.pcd', 'pcd_000762.pcd', 'pcd_000756.pcd', 'pcd_000687.pcd', 'pcd_000595.pcd', 'pcd_000461.pcd', 'pcd_000721.pcd', 'pcd_000708.pcd', 'pcd_000406.pcd', 'pcd_000432.pcd', 'pcd_000707.pcd', 'pcd_000605.pcd', 'pcd_000459.pcd', 'pcd_000601.pcd', 'pcd_000684.pcd', 'pcd_000657.pcd', 'pcd_000436.pcd', 'pcd_000608.pcd', 'pcd_000624.pcd', 'pcd_000618.pcd', 'pcd_000650.pcd', 'pcd_000769.pcd', 'pcd_000591.pcd', 'pcd_000767.pcd', 'pcd_000517.pcd', 'pcd_000626.pcd', 'pcd_000634.pcd', 'pcd_000679.pcd', 'pcd_000588.pcd', 'pcd_000435.pcd', 'pcd_000694.pcd', 'pcd_000699.pcd', 'pcd_000681.pcd', 'pcd_000724.pcd', 'pcd_000566.pcd', 'pcd_000558.pcd', 'pcd_000745.pcd', 'pcd_000398.pcd', 'pcd_000716.pcd', 'pcd_000372.pcd', 'pcd_000353.pcd', 'pcd_000373.pcd', 'pcd_000404.pcd', 'pcd_000288.pcd', 'pcd_000310.pcd', 'pcd_000396.pcd', 'pcd_000192.pcd']\n"
          ]
        }
      ]
    },
    {
      "cell_type": "markdown",
      "source": [
        "# ."
      ],
      "metadata": {
        "id": "1NDXrDas8ASu"
      }
    },
    {
      "cell_type": "code",
      "source": [
        "# 시각화에 필요한 라이브러리 불러오기\n",
        "import open3d as o3d\n",
        "import numpy as np\n",
        "import matplotlib.pyplot as plt\n",
        "\n",
        "# pcd 파일 불러오기, 필요에 맞게 경로 수정\n",
        "file_path = \"/content/drive/MyDrive/ColabNotebooks/20242R0136COSE41600/COSE416_HW1_tutorial/COSE416_HW1_tutorial/test_data/1727320101-665925967.pcd\"\n",
        "# PCD 파일 읽기\n",
        "original_pcd = o3d.io.read_point_cloud(file_path)"
      ],
      "metadata": {
        "id": "usR6g2MxYDHd"
      },
      "execution_count": 3,
      "outputs": []
    },
    {
      "cell_type": "code",
      "source": [
        "# Voxel Downsampling 수행\n",
        "voxel_size = 0.5  # 필요에 따라 voxel 크기를 조정하세요. 0.2 -> 0.5로 수정\n",
        "downsample_pcd = original_pcd.voxel_down_sample(voxel_size=voxel_size)"
      ],
      "metadata": {
        "id": "G8HntAY-pbpq"
      },
      "execution_count": 4,
      "outputs": []
    },
    {
      "cell_type": "code",
      "source": [
        "# Radius Outlier Removal (ROR) 적용\n",
        "cl, ind = downsample_pcd.remove_radius_outlier(nb_points=6, radius=1.2)\n",
        "ror_pcd = downsample_pcd.select_by_index(ind)"
      ],
      "metadata": {
        "id": "QZpp_il_pcbr"
      },
      "execution_count": 5,
      "outputs": []
    },
    {
      "cell_type": "code",
      "source": [
        "# RANSAC을 사용하여 평면 추정\n",
        "plane_model, inliers = ror_pcd.segment_plane(distance_threshold=0.1,\n",
        "                                             ransac_n=3,\n",
        "                                             num_iterations=2000)"
      ],
      "metadata": {
        "id": "RX_Fz636pLJb"
      },
      "execution_count": 6,
      "outputs": []
    },
    {
      "cell_type": "code",
      "source": [
        "# 도로에 속하지 않는 포인트 (outliers) 추출\n",
        "final_point = ror_pcd.select_by_index(inliers, invert=True)"
      ],
      "metadata": {
        "id": "7lNdtM39owk_"
      },
      "execution_count": 7,
      "outputs": []
    },
    {
      "cell_type": "code",
      "source": [
        "# DBSCAN 클러스터링 적용\n",
        "with o3d.utility.VerbosityContextManager(o3d.utility.VerbosityLevel.Debug) as cm:\n",
        "    labels = np.array(final_point.cluster_dbscan(eps=0.5, min_points=5, print_progress=True)) # eps = 0.3 -> 0.5, min_points = 10 -> 5 값 수정 후 클러스터링 성공"
      ],
      "metadata": {
        "colab": {
          "base_uri": "https://localhost:8080/"
        },
        "id": "iDk8SDDepy4P",
        "outputId": "868b0021-bfb7-467d-e7a1-1632fd7dd06c"
      },
      "execution_count": 8,
      "outputs": [
        {
          "output_type": "stream",
          "name": "stdout",
          "text": [
            "[Open3D DEBUG] Precompute neighbors.\n",
            "[Open3D DEBUG] Done Precompute neighbors.\n",
            "[Open3D DEBUG] Compute Clusters\n",
            "[Open3D DEBUG] Done Compute Clusters: 350\n"
          ]
        }
      ]
    },
    {
      "cell_type": "code",
      "source": [
        "# 노이즈 포인트는 검정색, 클러스터 포인트는 파란색으로 지정\n",
        "colors = np.zeros((len(labels), 3))  # 기본 검정색 (노이즈)\n",
        "colors[labels >= 0] = [0, 0, 1]  # 파란색으로 지정\n",
        "\n",
        "final_point.colors = o3d.utility.Vector3dVector(colors)"
      ],
      "metadata": {
        "id": "cBLyZi1IowhL"
      },
      "execution_count": 9,
      "outputs": []
    },
    {
      "cell_type": "code",
      "source": [
        "# 포인트 클라우드를 시각화하는 함수\n",
        "def visualize_point_cloud(pcd, window_name=\"Point Cloud\", point_size=1.0):\n",
        "    vis = o3d.visualization.Visualizer()\n",
        "    vis.create_window(window_name=window_name)\n",
        "    vis.add_geometry(pcd)\n",
        "    vis.get_render_option().point_size = point_size\n",
        "    vis.run()\n",
        "    vis.destroy_window()"
      ],
      "metadata": {
        "id": "f7dAwrVSqvfH"
      },
      "execution_count": 10,
      "outputs": []
    },
    {
      "cell_type": "code",
      "source": [
        "# 시각화 (포인트 크기를 원하는 크기로 조절 가능)\n",
        "visualize_point_cloud(final_point, point_size=2.0)\n",
        "\n",
        "# 세션 다운 됨"
      ],
      "metadata": {
        "colab": {
          "base_uri": "https://localhost:8080/",
          "height": 349
        },
        "id": "hfVlcWdmqvXp",
        "outputId": "39a1cd87-9760-47e1-d720-b0c88e33bab7"
      },
      "execution_count": 13,
      "outputs": [
        {
          "output_type": "stream",
          "name": "stdout",
          "text": [
            "\u001b[1;33m[Open3D WARNING] Failed to initialize GLFW\u001b[0;m\n"
          ]
        },
        {
          "output_type": "error",
          "ename": "AttributeError",
          "evalue": "'NoneType' object has no attribute 'point_size'",
          "traceback": [
            "\u001b[0;31m---------------------------------------------------------------------------\u001b[0m",
            "\u001b[0;31mAttributeError\u001b[0m                            Traceback (most recent call last)",
            "\u001b[0;32m<ipython-input-13-46e158fa6be7>\u001b[0m in \u001b[0;36m<cell line: 2>\u001b[0;34m()\u001b[0m\n\u001b[1;32m      1\u001b[0m \u001b[0;31m# 시각화 (포인트 크기를 원하는 크기로 조절 가능)\u001b[0m\u001b[0;34m\u001b[0m\u001b[0;34m\u001b[0m\u001b[0m\n\u001b[0;32m----> 2\u001b[0;31m \u001b[0mvisualize_point_cloud\u001b[0m\u001b[0;34m(\u001b[0m\u001b[0mfinal_point\u001b[0m\u001b[0;34m,\u001b[0m \u001b[0mpoint_size\u001b[0m\u001b[0;34m=\u001b[0m\u001b[0;36m2.0\u001b[0m\u001b[0;34m)\u001b[0m\u001b[0;34m\u001b[0m\u001b[0;34m\u001b[0m\u001b[0m\n\u001b[0m\u001b[1;32m      3\u001b[0m \u001b[0;34m\u001b[0m\u001b[0m\n\u001b[1;32m      4\u001b[0m \u001b[0;31m# 세션 다운 됨\u001b[0m\u001b[0;34m\u001b[0m\u001b[0;34m\u001b[0m\u001b[0m\n",
            "\u001b[0;32m<ipython-input-10-16d3553f3a05>\u001b[0m in \u001b[0;36mvisualize_point_cloud\u001b[0;34m(pcd, window_name, point_size)\u001b[0m\n\u001b[1;32m      4\u001b[0m     \u001b[0mvis\u001b[0m\u001b[0;34m.\u001b[0m\u001b[0mcreate_window\u001b[0m\u001b[0;34m(\u001b[0m\u001b[0mwindow_name\u001b[0m\u001b[0;34m=\u001b[0m\u001b[0mwindow_name\u001b[0m\u001b[0;34m)\u001b[0m\u001b[0;34m\u001b[0m\u001b[0;34m\u001b[0m\u001b[0m\n\u001b[1;32m      5\u001b[0m     \u001b[0mvis\u001b[0m\u001b[0;34m.\u001b[0m\u001b[0madd_geometry\u001b[0m\u001b[0;34m(\u001b[0m\u001b[0mpcd\u001b[0m\u001b[0;34m)\u001b[0m\u001b[0;34m\u001b[0m\u001b[0;34m\u001b[0m\u001b[0m\n\u001b[0;32m----> 6\u001b[0;31m     \u001b[0mvis\u001b[0m\u001b[0;34m.\u001b[0m\u001b[0mget_render_option\u001b[0m\u001b[0;34m(\u001b[0m\u001b[0;34m)\u001b[0m\u001b[0;34m.\u001b[0m\u001b[0mpoint_size\u001b[0m \u001b[0;34m=\u001b[0m \u001b[0mpoint_size\u001b[0m\u001b[0;34m\u001b[0m\u001b[0;34m\u001b[0m\u001b[0m\n\u001b[0m\u001b[1;32m      7\u001b[0m     \u001b[0mvis\u001b[0m\u001b[0;34m.\u001b[0m\u001b[0mrun\u001b[0m\u001b[0;34m(\u001b[0m\u001b[0;34m)\u001b[0m\u001b[0;34m\u001b[0m\u001b[0;34m\u001b[0m\u001b[0m\n\u001b[1;32m      8\u001b[0m     \u001b[0mvis\u001b[0m\u001b[0;34m.\u001b[0m\u001b[0mdestroy_window\u001b[0m\u001b[0;34m(\u001b[0m\u001b[0;34m)\u001b[0m\u001b[0;34m\u001b[0m\u001b[0;34m\u001b[0m\u001b[0m\n",
            "\u001b[0;31mAttributeError\u001b[0m: 'NoneType' object has no attribute 'point_size'"
          ]
        }
      ]
    },
    {
      "cell_type": "code",
      "source": [],
      "metadata": {
        "id": "q1wEeamHqyN7"
      },
      "execution_count": null,
      "outputs": []
    }
  ]
}